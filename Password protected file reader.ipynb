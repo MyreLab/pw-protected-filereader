{
 "cells": [
  {
   "cell_type": "markdown",
   "id": "7368adb9",
   "metadata": {},
   "source": [
    "#### Myrela Bauman  // May 2023\n",
    "## This code loads all password protected Daily SPOT reports saved in the folder, combining all files into a data frame for analysis"
   ]
  },
  {
   "cell_type": "code",
   "execution_count": null,
   "id": "79db2928",
   "metadata": {},
   "outputs": [],
   "source": [
    "# installing library\n",
    "#! pip install msoffcrypto-tool\n",
    "\n",
    "# loading packages\n",
    "import os\n",
    "import pandas as pd\n",
    "import msoffcrypto\n",
    "import io\n",
    "from msoffcrypto.exceptions import FileFormatError\n",
    "from zipfile import BadZipFile\n",
    "from msoffcrypto import OfficeFile"
   ]
  },
  {
   "cell_type": "code",
   "execution_count": null,
   "id": "b5bcb3ec",
   "metadata": {},
   "outputs": [],
   "source": [
    "# get user id - this links to the {uid} filepath below so that any user can run this code\n",
    "uid = !id -u\n",
    "uid = uid[0]\n",
    "uid"
   ]
  },
  {
   "cell_type": "code",
   "execution_count": null,
   "id": "9902a88b",
   "metadata": {},
   "outputs": [],
   "source": [
    "# create vars for folder path and password\n",
    "folder_path = f'/run/user/{uid}/gvfs/smb-share:server=nasprgshare220,share=share/!!file path here!!'\n",
    "password = \"!! password here !!\""
   ]
  },
  {
   "cell_type": "code",
   "execution_count": null,
   "id": "a8a971ec",
   "metadata": {},
   "outputs": [],
   "source": [
    "# list all xlsx files in the folder\n",
    "file_list = [f for f in os.listdir(f'{folder_path}') if f.endswith(\".xlsx\")]\n",
    "\n",
    "file_list"
   ]
  },
  {
   "cell_type": "code",
   "execution_count": null,
   "id": "d7bcb8b2",
   "metadata": {},
   "outputs": [],
   "source": [
    "# initializing an empty DataFrame\n",
    "combined_data = pd.DataFrame()"
   ]
  },
  {
   "cell_type": "code",
   "execution_count": null,
   "id": "508778d7",
   "metadata": {},
   "outputs": [],
   "source": [
    "# looping through each file in the folder\n",
    "for file in file_list:\n",
    "    file_path = os.path.join(folder_path, file)\n",
    "    \n",
    "    with open(file_path, \"rb\") as f:\n",
    "        decrypted_file = None\n",
    "        \n",
    "        try:\n",
    "            # try to decrypt the password-protected excel file\n",
    "            decryptor = OfficeFile(f)\n",
    "            decryptor.load_key(password=password)\n",
    "            \n",
    "            decrypted_file = io.BytesIO()\n",
    "            decryptor.decrypt(decrypted_file)\n",
    "            decrypted_file.seek(0)\n",
    "        except FileFormatError:\n",
    "            # if it's not an encrypted excel file, pass the unencrypted excel file to pandas\n",
    "            f.seek(0)\n",
    "            decrypted_file = f\n",
    "        \n",
    "        try:\n",
    "            # read the decrypted data (or original data, if not encrypted) using pandas\n",
    "            data = pd.read_excel(decrypted_file, sheet_name=\"!! sheet name here !!\") #edit sheet name\n",
    "            combined_data = pd.concat([combined_data, data], ignore_index=True)\n",
    "        except Exception as e:\n",
    "            print(f\"Error processing file {file}: {e}\")\n"
   ]
  },
  {
   "cell_type": "code",
   "execution_count": null,
   "id": "dc98da89",
   "metadata": {},
   "outputs": [],
   "source": [
    "# NOTE: if you get the error message below when reading the files, it's because these files are restricted and can't be read\n",
    "# Error processing file Potential Suspected Overdoses 2.10.2023.xlsx: Can't find workbook in OLE2 compound document\n",
    "# Error processing file Potential Suspected Overdoses 1-11-2023.xlsx: Can't find workbook in OLE2 compound document\n",
    "\n",
    "# printing dataframe to see if code worked\n",
    "print(combined_data.head())"
   ]
  },
  {
   "cell_type": "code",
   "execution_count": null,
   "id": "12e9235a",
   "metadata": {},
   "outputs": [],
   "source": [
    "# printing all variable names and data types\n",
    "print(combined_data.info())"
   ]
  },
  {
   "cell_type": "code",
   "execution_count": null,
   "id": "28cacbaa",
   "metadata": {},
   "outputs": [],
   "source": [
    "# restricting to variables of interest\n",
    "selected_columns = [\n",
    "    \"DOD\", \"REPORT DATE\", \"OCME NUMBER\", \"AGE\", \"RACE\", \"GENDER\", \n",
    "    \"DEATH ZIP\", \"HOME ZIP\", \"FOUND ZIP\", \"DEATH ADDRESS\", \"HOME ADDRESS\",\n",
    "    \"FOUND ADDRESS\", \"NOTES\"\n",
    "]\n",
    "\n",
    "filtered_data = combined_data[selected_columns]\n",
    "\n",
    "print(filtered_data.head())\n",
    "\n",
    "# if needed, can save the restricted dataset as an xlsx file:\n",
    "# filtered_data.to_excel('combined_OCMESPOT_5.12.23.xlsx', index=False, engine=\"openpyxl\")"
   ]
  },
  {
   "cell_type": "code",
   "execution_count": null,
   "id": "828c925f",
   "metadata": {},
   "outputs": [],
   "source": []
  },
  {
   "cell_type": "code",
   "execution_count": null,
   "id": "b44ed651",
   "metadata": {},
   "outputs": [],
   "source": []
  }
 ],
 "metadata": {
  "kernelspec": {
   "display_name": "Python 3 (ipykernel)",
   "language": "python",
   "name": "python3"
  },
  "language_info": {
   "codemirror_mode": {
    "name": "ipython",
    "version": 3
   },
   "file_extension": ".py",
   "mimetype": "text/x-python",
   "name": "python",
   "nbconvert_exporter": "python",
   "pygments_lexer": "ipython3",
   "version": "3.9.12"
  }
 },
 "nbformat": 4,
 "nbformat_minor": 5
}
